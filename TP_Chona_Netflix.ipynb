{
  "cells": [
    {
      "cell_type": "markdown",
      "metadata": {
        "id": "view-in-github",
        "colab_type": "text"
      },
      "source": [
        "<a href=\"https://colab.research.google.com/github/Fraffita/TP_Netflix/blob/main/TP_Chona_Netflix.ipynb\" target=\"_parent\"><img src=\"https://colab.research.google.com/assets/colab-badge.svg\" alt=\"Open In Colab\"/></a>"
      ]
    },
    {
      "cell_type": "markdown",
      "metadata": {
        "id": "aYkka4S4yhY0"
      },
      "source": [
        "# TP N°1\n",
        "### Integrantes: Franco Raffaele, Joaquin Orqueda y Mateo Perez"
      ]
    },
    {
      "cell_type": "code",
      "execution_count": 1,
      "metadata": {
        "id": "GRGr6KWop-Q4"
      },
      "outputs": [],
      "source": [
        "import pandas as pd\n",
        "import matplotlib.pyplot as plt\n",
        "import numpy as np\n",
        "import csv\n",
        "from collections import Counter\n",
        "from datetime import datetime\n",
        "import seaborn as sns\n",
        "import operator"
      ]
    },
    {
      "cell_type": "code",
      "source": [
        "!gdown https://drive.google.com/uc?id=1rpSEjZFQCE8dS9RKQzpxI7qW-mFveA12"
      ],
      "metadata": {
        "id": "34DKYedMnKss",
        "colab": {
          "base_uri": "https://localhost:8080/"
        },
        "outputId": "c9f377db-c449-4cb3-d900-565a9cf23aeb"
      },
      "execution_count": 2,
      "outputs": [
        {
          "output_type": "stream",
          "name": "stdout",
          "text": [
            "Downloading...\n",
            "From: https://drive.google.com/uc?id=1rpSEjZFQCE8dS9RKQzpxI7qW-mFveA12\n",
            "To: /content/NetflixHistory.csv\n",
            "\r  0% 0.00/2.13M [00:00<?, ?B/s]\r100% 2.13M/2.13M [00:00<00:00, 189MB/s]\n"
          ]
        }
      ]
    },
    {
      "cell_type": "markdown",
      "metadata": {
        "id": "hqgnExRxpSA0"
      },
      "source": [
        "## Pre-processing"
      ]
    },
    {
      "cell_type": "markdown",
      "metadata": {
        "id": "EdGdz4kMp0Wr"
      },
      "source": [
        "### Primero creamos un dataframe a partir del archivo"
      ]
    },
    {
      "cell_type": "code",
      "execution_count": 3,
      "metadata": {
        "id": "Wk1EIGUvsNHm"
      },
      "outputs": [],
      "source": [
        "df = pd.read_csv(\"NetflixHistory.csv\")"
      ]
    },
    {
      "cell_type": "markdown",
      "metadata": {
        "id": "Qnpks7dlEtET"
      },
      "source": [
        "### Aquí nos encargamos de eliminar todos los datos de las filas de dispositivos a ignorar"
      ]
    },
    {
      "cell_type": "code",
      "execution_count": 4,
      "metadata": {
        "id": "VLDbbFTx_Smr",
        "colab": {
          "base_uri": "https://localhost:8080/",
          "height": 0
        },
        "outputId": "90a3aeff-a656-46c5-8579-467fee2991c7"
      },
      "outputs": [
        {
          "output_type": "execute_result",
          "data": {
            "text/plain": [
              "       Unnamed: 0 Profile Name           Start Time  Duration Attributes  \\\n",
              "0               0        Chona  2022-08-21 19:54:53  00:02:54        NaN   \n",
              "1               1        Chona  2022-08-21 19:33:17  00:21:33        NaN   \n",
              "2               2        Chona  2022-08-21 19:11:40  00:21:28        NaN   \n",
              "3               3        Chona  2022-08-21 18:50:27  00:20:41        NaN   \n",
              "4               4        Chona  2022-08-21 18:16:34  00:21:20        NaN   \n",
              "...           ...          ...                  ...       ...        ...   \n",
              "12992       12992        Chona  2015-01-08 19:21:21  00:04:09        NaN   \n",
              "12993       12993        Chona  2015-01-08 19:20:47  00:00:15        NaN   \n",
              "12994       12994        Chona  2015-01-08 19:18:32  00:00:37        NaN   \n",
              "12995       12995        Chona  2015-01-08 19:16:45  00:00:18        NaN   \n",
              "12996       12996        Chona  2015-01-08 19:15:14  00:00:18        NaN   \n",
              "\n",
              "                                                   Title  \\\n",
              "0      Community: Temporada 3: Teoría del caos correc...   \n",
              "1      Community: Temporada 3: Ecología competitiva (...   \n",
              "2      Community: Temporada 3: Geografía del conflict...   \n",
              "3      Community: Temporada 2: Intermediate Documenta...   \n",
              "4      Community: Temporada 3: El documental (Capítul...   \n",
              "...                                                  ...   \n",
              "12992    Lost: Temporada 1: Éxodo: Parte 1 (Capítulo 23)   \n",
              "12993  Lost: Temporada 1: Nacida para correr (Capítul...   \n",
              "12994    Lost: Temporada 1: Éxodo: Parte 1 (Capítulo 23)   \n",
              "12995    Lost: Temporada 1: Éxodo: Parte 1 (Capítulo 23)   \n",
              "12996    Lost: Temporada 1: Éxodo: Parte 1 (Capítulo 23)   \n",
              "\n",
              "      Supplemental Video Type                Device Type  Bookmark  \\\n",
              "0                         NaN  Apple Apple TV 4 Apple TV  00:02:55   \n",
              "1                         NaN  Apple Apple TV 4 Apple TV  00:21:33   \n",
              "2                         NaN  Apple Apple TV 4 Apple TV  00:21:28   \n",
              "3                         NaN  Apple Apple TV 4 Apple TV  00:21:02   \n",
              "4                         NaN  Apple Apple TV 4 Apple TV  00:21:21   \n",
              "...                       ...                        ...       ...   \n",
              "12992                     NaN       Apple TV 3 (revised)  00:04:40   \n",
              "12993                     NaN       Apple TV 3 (revised)  00:00:14   \n",
              "12994                     NaN       Apple TV 3 (revised)  00:00:37   \n",
              "12995                     NaN       Apple TV 3 (revised)  00:00:18   \n",
              "12996                     NaN       Apple TV 3 (revised)  00:00:18   \n",
              "\n",
              "       Latest Bookmark         Country  \n",
              "0             00:02:55  AR (Argentina)  \n",
              "1             00:21:33  AR (Argentina)  \n",
              "2             00:21:28  AR (Argentina)  \n",
              "3             00:21:02  AR (Argentina)  \n",
              "4             00:21:21  AR (Argentina)  \n",
              "...                ...             ...  \n",
              "12992  Not latest view  AR (Argentina)  \n",
              "12993  Not latest view  AR (Argentina)  \n",
              "12994  Not latest view  AR (Argentina)  \n",
              "12995  Not latest view  AR (Argentina)  \n",
              "12996  Not latest view  AR (Argentina)  \n",
              "\n",
              "[6291 rows x 11 columns]"
            ],
            "text/html": [
              "\n",
              "  <div id=\"df-66bcd773-f4e3-4bf3-a39b-3089f2369449\">\n",
              "    <div class=\"colab-df-container\">\n",
              "      <div>\n",
              "<style scoped>\n",
              "    .dataframe tbody tr th:only-of-type {\n",
              "        vertical-align: middle;\n",
              "    }\n",
              "\n",
              "    .dataframe tbody tr th {\n",
              "        vertical-align: top;\n",
              "    }\n",
              "\n",
              "    .dataframe thead th {\n",
              "        text-align: right;\n",
              "    }\n",
              "</style>\n",
              "<table border=\"1\" class=\"dataframe\">\n",
              "  <thead>\n",
              "    <tr style=\"text-align: right;\">\n",
              "      <th></th>\n",
              "      <th>Unnamed: 0</th>\n",
              "      <th>Profile Name</th>\n",
              "      <th>Start Time</th>\n",
              "      <th>Duration</th>\n",
              "      <th>Attributes</th>\n",
              "      <th>Title</th>\n",
              "      <th>Supplemental Video Type</th>\n",
              "      <th>Device Type</th>\n",
              "      <th>Bookmark</th>\n",
              "      <th>Latest Bookmark</th>\n",
              "      <th>Country</th>\n",
              "    </tr>\n",
              "  </thead>\n",
              "  <tbody>\n",
              "    <tr>\n",
              "      <th>0</th>\n",
              "      <td>0</td>\n",
              "      <td>Chona</td>\n",
              "      <td>2022-08-21 19:54:53</td>\n",
              "      <td>00:02:54</td>\n",
              "      <td>NaN</td>\n",
              "      <td>Community: Temporada 3: Teoría del caos correc...</td>\n",
              "      <td>NaN</td>\n",
              "      <td>Apple Apple TV 4 Apple TV</td>\n",
              "      <td>00:02:55</td>\n",
              "      <td>00:02:55</td>\n",
              "      <td>AR (Argentina)</td>\n",
              "    </tr>\n",
              "    <tr>\n",
              "      <th>1</th>\n",
              "      <td>1</td>\n",
              "      <td>Chona</td>\n",
              "      <td>2022-08-21 19:33:17</td>\n",
              "      <td>00:21:33</td>\n",
              "      <td>NaN</td>\n",
              "      <td>Community: Temporada 3: Ecología competitiva (...</td>\n",
              "      <td>NaN</td>\n",
              "      <td>Apple Apple TV 4 Apple TV</td>\n",
              "      <td>00:21:33</td>\n",
              "      <td>00:21:33</td>\n",
              "      <td>AR (Argentina)</td>\n",
              "    </tr>\n",
              "    <tr>\n",
              "      <th>2</th>\n",
              "      <td>2</td>\n",
              "      <td>Chona</td>\n",
              "      <td>2022-08-21 19:11:40</td>\n",
              "      <td>00:21:28</td>\n",
              "      <td>NaN</td>\n",
              "      <td>Community: Temporada 3: Geografía del conflict...</td>\n",
              "      <td>NaN</td>\n",
              "      <td>Apple Apple TV 4 Apple TV</td>\n",
              "      <td>00:21:28</td>\n",
              "      <td>00:21:28</td>\n",
              "      <td>AR (Argentina)</td>\n",
              "    </tr>\n",
              "    <tr>\n",
              "      <th>3</th>\n",
              "      <td>3</td>\n",
              "      <td>Chona</td>\n",
              "      <td>2022-08-21 18:50:27</td>\n",
              "      <td>00:20:41</td>\n",
              "      <td>NaN</td>\n",
              "      <td>Community: Temporada 2: Intermediate Documenta...</td>\n",
              "      <td>NaN</td>\n",
              "      <td>Apple Apple TV 4 Apple TV</td>\n",
              "      <td>00:21:02</td>\n",
              "      <td>00:21:02</td>\n",
              "      <td>AR (Argentina)</td>\n",
              "    </tr>\n",
              "    <tr>\n",
              "      <th>4</th>\n",
              "      <td>4</td>\n",
              "      <td>Chona</td>\n",
              "      <td>2022-08-21 18:16:34</td>\n",
              "      <td>00:21:20</td>\n",
              "      <td>NaN</td>\n",
              "      <td>Community: Temporada 3: El documental (Capítul...</td>\n",
              "      <td>NaN</td>\n",
              "      <td>Apple Apple TV 4 Apple TV</td>\n",
              "      <td>00:21:21</td>\n",
              "      <td>00:21:21</td>\n",
              "      <td>AR (Argentina)</td>\n",
              "    </tr>\n",
              "    <tr>\n",
              "      <th>...</th>\n",
              "      <td>...</td>\n",
              "      <td>...</td>\n",
              "      <td>...</td>\n",
              "      <td>...</td>\n",
              "      <td>...</td>\n",
              "      <td>...</td>\n",
              "      <td>...</td>\n",
              "      <td>...</td>\n",
              "      <td>...</td>\n",
              "      <td>...</td>\n",
              "      <td>...</td>\n",
              "    </tr>\n",
              "    <tr>\n",
              "      <th>12992</th>\n",
              "      <td>12992</td>\n",
              "      <td>Chona</td>\n",
              "      <td>2015-01-08 19:21:21</td>\n",
              "      <td>00:04:09</td>\n",
              "      <td>NaN</td>\n",
              "      <td>Lost: Temporada 1: Éxodo: Parte 1 (Capítulo 23)</td>\n",
              "      <td>NaN</td>\n",
              "      <td>Apple TV 3 (revised)</td>\n",
              "      <td>00:04:40</td>\n",
              "      <td>Not latest view</td>\n",
              "      <td>AR (Argentina)</td>\n",
              "    </tr>\n",
              "    <tr>\n",
              "      <th>12993</th>\n",
              "      <td>12993</td>\n",
              "      <td>Chona</td>\n",
              "      <td>2015-01-08 19:20:47</td>\n",
              "      <td>00:00:15</td>\n",
              "      <td>NaN</td>\n",
              "      <td>Lost: Temporada 1: Nacida para correr (Capítul...</td>\n",
              "      <td>NaN</td>\n",
              "      <td>Apple TV 3 (revised)</td>\n",
              "      <td>00:00:14</td>\n",
              "      <td>Not latest view</td>\n",
              "      <td>AR (Argentina)</td>\n",
              "    </tr>\n",
              "    <tr>\n",
              "      <th>12994</th>\n",
              "      <td>12994</td>\n",
              "      <td>Chona</td>\n",
              "      <td>2015-01-08 19:18:32</td>\n",
              "      <td>00:00:37</td>\n",
              "      <td>NaN</td>\n",
              "      <td>Lost: Temporada 1: Éxodo: Parte 1 (Capítulo 23)</td>\n",
              "      <td>NaN</td>\n",
              "      <td>Apple TV 3 (revised)</td>\n",
              "      <td>00:00:37</td>\n",
              "      <td>Not latest view</td>\n",
              "      <td>AR (Argentina)</td>\n",
              "    </tr>\n",
              "    <tr>\n",
              "      <th>12995</th>\n",
              "      <td>12995</td>\n",
              "      <td>Chona</td>\n",
              "      <td>2015-01-08 19:16:45</td>\n",
              "      <td>00:00:18</td>\n",
              "      <td>NaN</td>\n",
              "      <td>Lost: Temporada 1: Éxodo: Parte 1 (Capítulo 23)</td>\n",
              "      <td>NaN</td>\n",
              "      <td>Apple TV 3 (revised)</td>\n",
              "      <td>00:00:18</td>\n",
              "      <td>Not latest view</td>\n",
              "      <td>AR (Argentina)</td>\n",
              "    </tr>\n",
              "    <tr>\n",
              "      <th>12996</th>\n",
              "      <td>12996</td>\n",
              "      <td>Chona</td>\n",
              "      <td>2015-01-08 19:15:14</td>\n",
              "      <td>00:00:18</td>\n",
              "      <td>NaN</td>\n",
              "      <td>Lost: Temporada 1: Éxodo: Parte 1 (Capítulo 23)</td>\n",
              "      <td>NaN</td>\n",
              "      <td>Apple TV 3 (revised)</td>\n",
              "      <td>00:00:18</td>\n",
              "      <td>Not latest view</td>\n",
              "      <td>AR (Argentina)</td>\n",
              "    </tr>\n",
              "  </tbody>\n",
              "</table>\n",
              "<p>6291 rows × 11 columns</p>\n",
              "</div>\n",
              "      <button class=\"colab-df-convert\" onclick=\"convertToInteractive('df-66bcd773-f4e3-4bf3-a39b-3089f2369449')\"\n",
              "              title=\"Convert this dataframe to an interactive table.\"\n",
              "              style=\"display:none;\">\n",
              "        \n",
              "  <svg xmlns=\"http://www.w3.org/2000/svg\" height=\"24px\"viewBox=\"0 0 24 24\"\n",
              "       width=\"24px\">\n",
              "    <path d=\"M0 0h24v24H0V0z\" fill=\"none\"/>\n",
              "    <path d=\"M18.56 5.44l.94 2.06.94-2.06 2.06-.94-2.06-.94-.94-2.06-.94 2.06-2.06.94zm-11 1L8.5 8.5l.94-2.06 2.06-.94-2.06-.94L8.5 2.5l-.94 2.06-2.06.94zm10 10l.94 2.06.94-2.06 2.06-.94-2.06-.94-.94-2.06-.94 2.06-2.06.94z\"/><path d=\"M17.41 7.96l-1.37-1.37c-.4-.4-.92-.59-1.43-.59-.52 0-1.04.2-1.43.59L10.3 9.45l-7.72 7.72c-.78.78-.78 2.05 0 2.83L4 21.41c.39.39.9.59 1.41.59.51 0 1.02-.2 1.41-.59l7.78-7.78 2.81-2.81c.8-.78.8-2.07 0-2.86zM5.41 20L4 18.59l7.72-7.72 1.47 1.35L5.41 20z\"/>\n",
              "  </svg>\n",
              "      </button>\n",
              "      \n",
              "  <style>\n",
              "    .colab-df-container {\n",
              "      display:flex;\n",
              "      flex-wrap:wrap;\n",
              "      gap: 12px;\n",
              "    }\n",
              "\n",
              "    .colab-df-convert {\n",
              "      background-color: #E8F0FE;\n",
              "      border: none;\n",
              "      border-radius: 50%;\n",
              "      cursor: pointer;\n",
              "      display: none;\n",
              "      fill: #1967D2;\n",
              "      height: 32px;\n",
              "      padding: 0 0 0 0;\n",
              "      width: 32px;\n",
              "    }\n",
              "\n",
              "    .colab-df-convert:hover {\n",
              "      background-color: #E2EBFA;\n",
              "      box-shadow: 0px 1px 2px rgba(60, 64, 67, 0.3), 0px 1px 3px 1px rgba(60, 64, 67, 0.15);\n",
              "      fill: #174EA6;\n",
              "    }\n",
              "\n",
              "    [theme=dark] .colab-df-convert {\n",
              "      background-color: #3B4455;\n",
              "      fill: #D2E3FC;\n",
              "    }\n",
              "\n",
              "    [theme=dark] .colab-df-convert:hover {\n",
              "      background-color: #434B5C;\n",
              "      box-shadow: 0px 1px 3px 1px rgba(0, 0, 0, 0.15);\n",
              "      filter: drop-shadow(0px 1px 2px rgba(0, 0, 0, 0.3));\n",
              "      fill: #FFFFFF;\n",
              "    }\n",
              "  </style>\n",
              "\n",
              "      <script>\n",
              "        const buttonEl =\n",
              "          document.querySelector('#df-66bcd773-f4e3-4bf3-a39b-3089f2369449 button.colab-df-convert');\n",
              "        buttonEl.style.display =\n",
              "          google.colab.kernel.accessAllowed ? 'block' : 'none';\n",
              "\n",
              "        async function convertToInteractive(key) {\n",
              "          const element = document.querySelector('#df-66bcd773-f4e3-4bf3-a39b-3089f2369449');\n",
              "          const dataTable =\n",
              "            await google.colab.kernel.invokeFunction('convertToInteractive',\n",
              "                                                     [key], {});\n",
              "          if (!dataTable) return;\n",
              "\n",
              "          const docLinkHtml = 'Like what you see? Visit the ' +\n",
              "            '<a target=\"_blank\" href=https://colab.research.google.com/notebooks/data_table.ipynb>data table notebook</a>'\n",
              "            + ' to learn more about interactive tables.';\n",
              "          element.innerHTML = '';\n",
              "          dataTable['output_type'] = 'display_data';\n",
              "          await google.colab.output.renderOutput(dataTable, element);\n",
              "          const docLink = document.createElement('div');\n",
              "          docLink.innerHTML = docLinkHtml;\n",
              "          element.appendChild(docLink);\n",
              "        }\n",
              "      </script>\n",
              "    </div>\n",
              "  </div>\n",
              "  "
            ]
          },
          "metadata": {},
          "execution_count": 4
        }
      ],
      "source": [
        "unwanted_words = [\"Apple iPhone 6s\", \"Sony PS4\", \"Netflix Windows App - Cadmium Windows Mobile\", \"Apple iPhone 7 Plus (CDMA)\", \"Chrome PC (Cadmium)\", \"Samsung 2015 NT14M DTV Smart TV\", \"iPhone 5S GSM\", \"Google Chromecast V3 Streaming Stick\"]\n",
        "for word in unwanted_words:\n",
        "  df = df[df[\"Device Type\"] != word]\n",
        "\n",
        "df\n",
        "#Como se ve solo se imprimen valores donde contienen dispositivos distintos a la lista de palabras indeseadas"
      ]
    },
    {
      "cell_type": "markdown",
      "source": [
        "### En esta sección se encuentran funciones que se aplican en este momento para ser utilizadas en ejercicio posteriores"
      ],
      "metadata": {
        "id": "l2u1XpT_ogWA"
      }
    },
    {
      "cell_type": "markdown",
      "source": [
        "#### Esta función pasa todos los tiempos de la columna duración a segundos, con el objetivo de poder realizar operaciones numéricas (segundos en este caso)"
      ],
      "metadata": {
        "id": "DizlVJUMYQHr"
      }
    },
    {
      "cell_type": "code",
      "source": [
        "h = \"\"\n",
        "m = \"\"\n",
        "s = \"\"\n",
        "def duration_toseconds(input):\n",
        "   if (type(input) == str):\n",
        "    h, m, s = input.split(':')\n",
        "    return int(h) * 60 * 60 + int(m) * 60 + int(s)\n",
        "   return input\n",
        "\n",
        "df[\"Duration\"] = df[\"Duration\"].apply(duration_toseconds)"
      ],
      "metadata": {
        "id": "_EQvRnL3pwnv"
      },
      "execution_count": 5,
      "outputs": []
    },
    {
      "cell_type": "markdown",
      "source": [
        "#### Estas dos funciones son para calcular el día y la hora (respectivamente) de los programas vistos"
      ],
      "metadata": {
        "id": "S7fOPB68Zwjy"
      }
    },
    {
      "cell_type": "code",
      "source": [
        "def dayColumn(input):\n",
        "  date = datetime.strptime(input, '%Y-%m-%d %H:%M:%S')\n",
        "  date = (date.strftime(\"%Y-%B-%A-%d %H:%M:%S\"))\n",
        "  res = \"\"\n",
        "\n",
        "  for a in date:\n",
        "    if a == \"-\" or a == \" \" or a == \":\":\n",
        "      res += \".\"\n",
        "    else: \n",
        "      res += a\n",
        "\n",
        "  res = res.split(\".\")\n",
        "\n",
        "  return res[2]"
      ],
      "metadata": {
        "id": "tdIiSIsZMxYY"
      },
      "execution_count": 6,
      "outputs": []
    },
    {
      "cell_type": "code",
      "source": [
        "def hourColumn(input):\n",
        "  date = datetime.strptime(input, '%Y-%m-%d %H:%M:%S')\n",
        "  date = (date.strftime(\"%Y-%B-%A-%d %H:%M:%S\"))\n",
        "  res = \"\"\n",
        "\n",
        "  for a in date:\n",
        "    if a == \"-\" or a == \" \" or a == \":\":\n",
        "      res += \".\"\n",
        "    else: \n",
        "      res += a\n",
        "\n",
        "  res = res.split(\".\")\n",
        "\n",
        "  return res[4]"
      ],
      "metadata": {
        "id": "8x_sogjBM0LX"
      },
      "execution_count": 7,
      "outputs": []
    },
    {
      "cell_type": "code",
      "source": [
        "df[\"Day\"] = df[\"Start Time\"].apply(dayColumn)\n",
        "df[\"Hour\"] = df[\"Start Time\"].apply(hourColumn)\n",
        "df"
      ],
      "metadata": {
        "id": "Q9Bu0GpfNJh4",
        "colab": {
          "base_uri": "https://localhost:8080/",
          "height": 0
        },
        "outputId": "193d8b05-a876-4ba4-ac76-d80fcf35681f"
      },
      "execution_count": 8,
      "outputs": [
        {
          "output_type": "execute_result",
          "data": {
            "text/plain": [
              "       Unnamed: 0 Profile Name           Start Time  Duration Attributes  \\\n",
              "0               0        Chona  2022-08-21 19:54:53       174        NaN   \n",
              "1               1        Chona  2022-08-21 19:33:17      1293        NaN   \n",
              "2               2        Chona  2022-08-21 19:11:40      1288        NaN   \n",
              "3               3        Chona  2022-08-21 18:50:27      1241        NaN   \n",
              "4               4        Chona  2022-08-21 18:16:34      1280        NaN   \n",
              "...           ...          ...                  ...       ...        ...   \n",
              "12992       12992        Chona  2015-01-08 19:21:21       249        NaN   \n",
              "12993       12993        Chona  2015-01-08 19:20:47        15        NaN   \n",
              "12994       12994        Chona  2015-01-08 19:18:32        37        NaN   \n",
              "12995       12995        Chona  2015-01-08 19:16:45        18        NaN   \n",
              "12996       12996        Chona  2015-01-08 19:15:14        18        NaN   \n",
              "\n",
              "                                                   Title  \\\n",
              "0      Community: Temporada 3: Teoría del caos correc...   \n",
              "1      Community: Temporada 3: Ecología competitiva (...   \n",
              "2      Community: Temporada 3: Geografía del conflict...   \n",
              "3      Community: Temporada 2: Intermediate Documenta...   \n",
              "4      Community: Temporada 3: El documental (Capítul...   \n",
              "...                                                  ...   \n",
              "12992    Lost: Temporada 1: Éxodo: Parte 1 (Capítulo 23)   \n",
              "12993  Lost: Temporada 1: Nacida para correr (Capítul...   \n",
              "12994    Lost: Temporada 1: Éxodo: Parte 1 (Capítulo 23)   \n",
              "12995    Lost: Temporada 1: Éxodo: Parte 1 (Capítulo 23)   \n",
              "12996    Lost: Temporada 1: Éxodo: Parte 1 (Capítulo 23)   \n",
              "\n",
              "      Supplemental Video Type                Device Type  Bookmark  \\\n",
              "0                         NaN  Apple Apple TV 4 Apple TV  00:02:55   \n",
              "1                         NaN  Apple Apple TV 4 Apple TV  00:21:33   \n",
              "2                         NaN  Apple Apple TV 4 Apple TV  00:21:28   \n",
              "3                         NaN  Apple Apple TV 4 Apple TV  00:21:02   \n",
              "4                         NaN  Apple Apple TV 4 Apple TV  00:21:21   \n",
              "...                       ...                        ...       ...   \n",
              "12992                     NaN       Apple TV 3 (revised)  00:04:40   \n",
              "12993                     NaN       Apple TV 3 (revised)  00:00:14   \n",
              "12994                     NaN       Apple TV 3 (revised)  00:00:37   \n",
              "12995                     NaN       Apple TV 3 (revised)  00:00:18   \n",
              "12996                     NaN       Apple TV 3 (revised)  00:00:18   \n",
              "\n",
              "       Latest Bookmark         Country       Day Hour  \n",
              "0             00:02:55  AR (Argentina)    Sunday   19  \n",
              "1             00:21:33  AR (Argentina)    Sunday   19  \n",
              "2             00:21:28  AR (Argentina)    Sunday   19  \n",
              "3             00:21:02  AR (Argentina)    Sunday   18  \n",
              "4             00:21:21  AR (Argentina)    Sunday   18  \n",
              "...                ...             ...       ...  ...  \n",
              "12992  Not latest view  AR (Argentina)  Thursday   19  \n",
              "12993  Not latest view  AR (Argentina)  Thursday   19  \n",
              "12994  Not latest view  AR (Argentina)  Thursday   19  \n",
              "12995  Not latest view  AR (Argentina)  Thursday   19  \n",
              "12996  Not latest view  AR (Argentina)  Thursday   19  \n",
              "\n",
              "[6291 rows x 13 columns]"
            ],
            "text/html": [
              "\n",
              "  <div id=\"df-af04fdb8-20d1-4f13-b036-71d595451da2\">\n",
              "    <div class=\"colab-df-container\">\n",
              "      <div>\n",
              "<style scoped>\n",
              "    .dataframe tbody tr th:only-of-type {\n",
              "        vertical-align: middle;\n",
              "    }\n",
              "\n",
              "    .dataframe tbody tr th {\n",
              "        vertical-align: top;\n",
              "    }\n",
              "\n",
              "    .dataframe thead th {\n",
              "        text-align: right;\n",
              "    }\n",
              "</style>\n",
              "<table border=\"1\" class=\"dataframe\">\n",
              "  <thead>\n",
              "    <tr style=\"text-align: right;\">\n",
              "      <th></th>\n",
              "      <th>Unnamed: 0</th>\n",
              "      <th>Profile Name</th>\n",
              "      <th>Start Time</th>\n",
              "      <th>Duration</th>\n",
              "      <th>Attributes</th>\n",
              "      <th>Title</th>\n",
              "      <th>Supplemental Video Type</th>\n",
              "      <th>Device Type</th>\n",
              "      <th>Bookmark</th>\n",
              "      <th>Latest Bookmark</th>\n",
              "      <th>Country</th>\n",
              "      <th>Day</th>\n",
              "      <th>Hour</th>\n",
              "    </tr>\n",
              "  </thead>\n",
              "  <tbody>\n",
              "    <tr>\n",
              "      <th>0</th>\n",
              "      <td>0</td>\n",
              "      <td>Chona</td>\n",
              "      <td>2022-08-21 19:54:53</td>\n",
              "      <td>174</td>\n",
              "      <td>NaN</td>\n",
              "      <td>Community: Temporada 3: Teoría del caos correc...</td>\n",
              "      <td>NaN</td>\n",
              "      <td>Apple Apple TV 4 Apple TV</td>\n",
              "      <td>00:02:55</td>\n",
              "      <td>00:02:55</td>\n",
              "      <td>AR (Argentina)</td>\n",
              "      <td>Sunday</td>\n",
              "      <td>19</td>\n",
              "    </tr>\n",
              "    <tr>\n",
              "      <th>1</th>\n",
              "      <td>1</td>\n",
              "      <td>Chona</td>\n",
              "      <td>2022-08-21 19:33:17</td>\n",
              "      <td>1293</td>\n",
              "      <td>NaN</td>\n",
              "      <td>Community: Temporada 3: Ecología competitiva (...</td>\n",
              "      <td>NaN</td>\n",
              "      <td>Apple Apple TV 4 Apple TV</td>\n",
              "      <td>00:21:33</td>\n",
              "      <td>00:21:33</td>\n",
              "      <td>AR (Argentina)</td>\n",
              "      <td>Sunday</td>\n",
              "      <td>19</td>\n",
              "    </tr>\n",
              "    <tr>\n",
              "      <th>2</th>\n",
              "      <td>2</td>\n",
              "      <td>Chona</td>\n",
              "      <td>2022-08-21 19:11:40</td>\n",
              "      <td>1288</td>\n",
              "      <td>NaN</td>\n",
              "      <td>Community: Temporada 3: Geografía del conflict...</td>\n",
              "      <td>NaN</td>\n",
              "      <td>Apple Apple TV 4 Apple TV</td>\n",
              "      <td>00:21:28</td>\n",
              "      <td>00:21:28</td>\n",
              "      <td>AR (Argentina)</td>\n",
              "      <td>Sunday</td>\n",
              "      <td>19</td>\n",
              "    </tr>\n",
              "    <tr>\n",
              "      <th>3</th>\n",
              "      <td>3</td>\n",
              "      <td>Chona</td>\n",
              "      <td>2022-08-21 18:50:27</td>\n",
              "      <td>1241</td>\n",
              "      <td>NaN</td>\n",
              "      <td>Community: Temporada 2: Intermediate Documenta...</td>\n",
              "      <td>NaN</td>\n",
              "      <td>Apple Apple TV 4 Apple TV</td>\n",
              "      <td>00:21:02</td>\n",
              "      <td>00:21:02</td>\n",
              "      <td>AR (Argentina)</td>\n",
              "      <td>Sunday</td>\n",
              "      <td>18</td>\n",
              "    </tr>\n",
              "    <tr>\n",
              "      <th>4</th>\n",
              "      <td>4</td>\n",
              "      <td>Chona</td>\n",
              "      <td>2022-08-21 18:16:34</td>\n",
              "      <td>1280</td>\n",
              "      <td>NaN</td>\n",
              "      <td>Community: Temporada 3: El documental (Capítul...</td>\n",
              "      <td>NaN</td>\n",
              "      <td>Apple Apple TV 4 Apple TV</td>\n",
              "      <td>00:21:21</td>\n",
              "      <td>00:21:21</td>\n",
              "      <td>AR (Argentina)</td>\n",
              "      <td>Sunday</td>\n",
              "      <td>18</td>\n",
              "    </tr>\n",
              "    <tr>\n",
              "      <th>...</th>\n",
              "      <td>...</td>\n",
              "      <td>...</td>\n",
              "      <td>...</td>\n",
              "      <td>...</td>\n",
              "      <td>...</td>\n",
              "      <td>...</td>\n",
              "      <td>...</td>\n",
              "      <td>...</td>\n",
              "      <td>...</td>\n",
              "      <td>...</td>\n",
              "      <td>...</td>\n",
              "      <td>...</td>\n",
              "      <td>...</td>\n",
              "    </tr>\n",
              "    <tr>\n",
              "      <th>12992</th>\n",
              "      <td>12992</td>\n",
              "      <td>Chona</td>\n",
              "      <td>2015-01-08 19:21:21</td>\n",
              "      <td>249</td>\n",
              "      <td>NaN</td>\n",
              "      <td>Lost: Temporada 1: Éxodo: Parte 1 (Capítulo 23)</td>\n",
              "      <td>NaN</td>\n",
              "      <td>Apple TV 3 (revised)</td>\n",
              "      <td>00:04:40</td>\n",
              "      <td>Not latest view</td>\n",
              "      <td>AR (Argentina)</td>\n",
              "      <td>Thursday</td>\n",
              "      <td>19</td>\n",
              "    </tr>\n",
              "    <tr>\n",
              "      <th>12993</th>\n",
              "      <td>12993</td>\n",
              "      <td>Chona</td>\n",
              "      <td>2015-01-08 19:20:47</td>\n",
              "      <td>15</td>\n",
              "      <td>NaN</td>\n",
              "      <td>Lost: Temporada 1: Nacida para correr (Capítul...</td>\n",
              "      <td>NaN</td>\n",
              "      <td>Apple TV 3 (revised)</td>\n",
              "      <td>00:00:14</td>\n",
              "      <td>Not latest view</td>\n",
              "      <td>AR (Argentina)</td>\n",
              "      <td>Thursday</td>\n",
              "      <td>19</td>\n",
              "    </tr>\n",
              "    <tr>\n",
              "      <th>12994</th>\n",
              "      <td>12994</td>\n",
              "      <td>Chona</td>\n",
              "      <td>2015-01-08 19:18:32</td>\n",
              "      <td>37</td>\n",
              "      <td>NaN</td>\n",
              "      <td>Lost: Temporada 1: Éxodo: Parte 1 (Capítulo 23)</td>\n",
              "      <td>NaN</td>\n",
              "      <td>Apple TV 3 (revised)</td>\n",
              "      <td>00:00:37</td>\n",
              "      <td>Not latest view</td>\n",
              "      <td>AR (Argentina)</td>\n",
              "      <td>Thursday</td>\n",
              "      <td>19</td>\n",
              "    </tr>\n",
              "    <tr>\n",
              "      <th>12995</th>\n",
              "      <td>12995</td>\n",
              "      <td>Chona</td>\n",
              "      <td>2015-01-08 19:16:45</td>\n",
              "      <td>18</td>\n",
              "      <td>NaN</td>\n",
              "      <td>Lost: Temporada 1: Éxodo: Parte 1 (Capítulo 23)</td>\n",
              "      <td>NaN</td>\n",
              "      <td>Apple TV 3 (revised)</td>\n",
              "      <td>00:00:18</td>\n",
              "      <td>Not latest view</td>\n",
              "      <td>AR (Argentina)</td>\n",
              "      <td>Thursday</td>\n",
              "      <td>19</td>\n",
              "    </tr>\n",
              "    <tr>\n",
              "      <th>12996</th>\n",
              "      <td>12996</td>\n",
              "      <td>Chona</td>\n",
              "      <td>2015-01-08 19:15:14</td>\n",
              "      <td>18</td>\n",
              "      <td>NaN</td>\n",
              "      <td>Lost: Temporada 1: Éxodo: Parte 1 (Capítulo 23)</td>\n",
              "      <td>NaN</td>\n",
              "      <td>Apple TV 3 (revised)</td>\n",
              "      <td>00:00:18</td>\n",
              "      <td>Not latest view</td>\n",
              "      <td>AR (Argentina)</td>\n",
              "      <td>Thursday</td>\n",
              "      <td>19</td>\n",
              "    </tr>\n",
              "  </tbody>\n",
              "</table>\n",
              "<p>6291 rows × 13 columns</p>\n",
              "</div>\n",
              "      <button class=\"colab-df-convert\" onclick=\"convertToInteractive('df-af04fdb8-20d1-4f13-b036-71d595451da2')\"\n",
              "              title=\"Convert this dataframe to an interactive table.\"\n",
              "              style=\"display:none;\">\n",
              "        \n",
              "  <svg xmlns=\"http://www.w3.org/2000/svg\" height=\"24px\"viewBox=\"0 0 24 24\"\n",
              "       width=\"24px\">\n",
              "    <path d=\"M0 0h24v24H0V0z\" fill=\"none\"/>\n",
              "    <path d=\"M18.56 5.44l.94 2.06.94-2.06 2.06-.94-2.06-.94-.94-2.06-.94 2.06-2.06.94zm-11 1L8.5 8.5l.94-2.06 2.06-.94-2.06-.94L8.5 2.5l-.94 2.06-2.06.94zm10 10l.94 2.06.94-2.06 2.06-.94-2.06-.94-.94-2.06-.94 2.06-2.06.94z\"/><path d=\"M17.41 7.96l-1.37-1.37c-.4-.4-.92-.59-1.43-.59-.52 0-1.04.2-1.43.59L10.3 9.45l-7.72 7.72c-.78.78-.78 2.05 0 2.83L4 21.41c.39.39.9.59 1.41.59.51 0 1.02-.2 1.41-.59l7.78-7.78 2.81-2.81c.8-.78.8-2.07 0-2.86zM5.41 20L4 18.59l7.72-7.72 1.47 1.35L5.41 20z\"/>\n",
              "  </svg>\n",
              "      </button>\n",
              "      \n",
              "  <style>\n",
              "    .colab-df-container {\n",
              "      display:flex;\n",
              "      flex-wrap:wrap;\n",
              "      gap: 12px;\n",
              "    }\n",
              "\n",
              "    .colab-df-convert {\n",
              "      background-color: #E8F0FE;\n",
              "      border: none;\n",
              "      border-radius: 50%;\n",
              "      cursor: pointer;\n",
              "      display: none;\n",
              "      fill: #1967D2;\n",
              "      height: 32px;\n",
              "      padding: 0 0 0 0;\n",
              "      width: 32px;\n",
              "    }\n",
              "\n",
              "    .colab-df-convert:hover {\n",
              "      background-color: #E2EBFA;\n",
              "      box-shadow: 0px 1px 2px rgba(60, 64, 67, 0.3), 0px 1px 3px 1px rgba(60, 64, 67, 0.15);\n",
              "      fill: #174EA6;\n",
              "    }\n",
              "\n",
              "    [theme=dark] .colab-df-convert {\n",
              "      background-color: #3B4455;\n",
              "      fill: #D2E3FC;\n",
              "    }\n",
              "\n",
              "    [theme=dark] .colab-df-convert:hover {\n",
              "      background-color: #434B5C;\n",
              "      box-shadow: 0px 1px 3px 1px rgba(0, 0, 0, 0.15);\n",
              "      filter: drop-shadow(0px 1px 2px rgba(0, 0, 0, 0.3));\n",
              "      fill: #FFFFFF;\n",
              "    }\n",
              "  </style>\n",
              "\n",
              "      <script>\n",
              "        const buttonEl =\n",
              "          document.querySelector('#df-af04fdb8-20d1-4f13-b036-71d595451da2 button.colab-df-convert');\n",
              "        buttonEl.style.display =\n",
              "          google.colab.kernel.accessAllowed ? 'block' : 'none';\n",
              "\n",
              "        async function convertToInteractive(key) {\n",
              "          const element = document.querySelector('#df-af04fdb8-20d1-4f13-b036-71d595451da2');\n",
              "          const dataTable =\n",
              "            await google.colab.kernel.invokeFunction('convertToInteractive',\n",
              "                                                     [key], {});\n",
              "          if (!dataTable) return;\n",
              "\n",
              "          const docLinkHtml = 'Like what you see? Visit the ' +\n",
              "            '<a target=\"_blank\" href=https://colab.research.google.com/notebooks/data_table.ipynb>data table notebook</a>'\n",
              "            + ' to learn more about interactive tables.';\n",
              "          element.innerHTML = '';\n",
              "          dataTable['output_type'] = 'display_data';\n",
              "          await google.colab.output.renderOutput(dataTable, element);\n",
              "          const docLink = document.createElement('div');\n",
              "          docLink.innerHTML = docLinkHtml;\n",
              "          element.appendChild(docLink);\n",
              "        }\n",
              "      </script>\n",
              "    </div>\n",
              "  </div>\n",
              "  "
            ]
          },
          "metadata": {},
          "execution_count": 8
        }
      ]
    },
    {
      "cell_type": "markdown",
      "source": [
        "## Ejercicio A"
      ],
      "metadata": {
        "id": "YenRsspvqkj7"
      }
    },
    {
      "cell_type": "markdown",
      "source": [
        "#### Utilizamos la función Counter que \"cuenta\" las veces que aparece cada nombre, en este caso en la columna \"Device Type\""
      ],
      "metadata": {
        "id": "hh_WTGL-y2Qf"
      }
    },
    {
      "cell_type": "code",
      "source": [
        "c_devices = dict(Counter(df[\"Device Type\"]))\n",
        "dict_devices = dict(sorted(c_devices.items(), key=operator.itemgetter(1),reverse=True))\n",
        "\n",
        "max_device = None\n",
        "max_device_time = 0\n",
        "\n",
        "for k,v in c_devices.items():\n",
        " if v > max_device_time:\n",
        "   max_device_time = v\n",
        "   max_device = k\n",
        "\n",
        "print(\"El dispositivo más usado es el\", max_device, \"y fue utilizado\", max_device_time, \"veces\")"
      ],
      "metadata": {
        "id": "98uCLiB1qalj",
        "colab": {
          "base_uri": "https://localhost:8080/"
        },
        "outputId": "cb876663-59ae-4c7d-9e88-ff76d3222a50"
      },
      "execution_count": 9,
      "outputs": [
        {
          "output_type": "stream",
          "name": "stdout",
          "text": [
            "El dispositivo más usado es el Apple Apple TV 4 Apple TV y fue utilizado 3519 veces\n"
          ]
        }
      ]
    },
    {
      "cell_type": "markdown",
      "metadata": {
        "id": "UZ_GmvUlq3jK"
      },
      "source": [
        "## Ejercicio B"
      ]
    },
    {
      "cell_type": "markdown",
      "source": [
        "### Para clasificar si el programa es una película, serie, u otro, programamos esta función que se basa en la cantidad de \":\" que contenga en su nombre"
      ],
      "metadata": {
        "id": "MqUiGWxM29OW"
      }
    },
    {
      "cell_type": "code",
      "source": [
        "def title_type(title, SVT):\n",
        "    if not pd.isnull(SVT):\n",
        "     return \"Otros\"\n",
        "    else:\n",
        "      if title.count(\":\") >= 2:\n",
        "       return \"Serie\"\n",
        "      else:\n",
        "       return \"Película\"\n",
        "      "
      ],
      "metadata": {
        "id": "WDfrTxBHYiS8"
      },
      "execution_count": 36,
      "outputs": []
    },
    {
      "cell_type": "markdown",
      "source": [
        "### Luego aplicamos esta función en el dataframe y creamos una columna para ver los resultados, la que a continuación sirve para dejar solo a las películas"
      ],
      "metadata": {
        "id": "oQjPWvXq3SOF"
      }
    },
    {
      "cell_type": "code",
      "source": [
        "df[\"Title Type\"] = df.apply(lambda x: title_type(x['Title'], x['Supplemental Video Type']), axis=1)\n",
        "df_pelis = df.drop(df[(df['Title Type'] == \"Otros\") | (df['Title Type'] == \"Serie\")].index)\n",
        "df_pelis"
      ],
      "metadata": {
        "colab": {
          "base_uri": "https://localhost:8080/",
          "height": 867
        },
        "id": "6AIHzFuw3RZT",
        "outputId": "53b653f9-be95-4fb5-efa1-7f8f634be300"
      },
      "execution_count": 26,
      "outputs": [
        {
          "output_type": "execute_result",
          "data": {
            "text/plain": [
              "       Unnamed: 0 Profile Name           Start Time  Duration Attributes  \\\n",
              "89             89        Chona  2022-07-16 22:28:48      6003        NaN   \n",
              "157           157        Chona  2022-03-29 01:35:31      2331        NaN   \n",
              "158           158        Chona  2022-03-28 22:04:54      4294        NaN   \n",
              "294           294        Chona  2021-12-29 18:15:16      7372        NaN   \n",
              "296           296        Chona  2021-12-28 03:21:55      6975        NaN   \n",
              "...           ...          ...                  ...       ...        ...   \n",
              "12868       12868        Chona  2015-01-20 00:49:39      5361        NaN   \n",
              "12869       12869        Chona  2015-01-20 00:20:46        32        NaN   \n",
              "12894       12894        Chona  2015-01-16 00:48:04      5642        NaN   \n",
              "12895       12895        Chona  2015-01-16 00:30:53         1        NaN   \n",
              "12896       12896        Chona  2015-01-16 00:19:51        19        NaN   \n",
              "\n",
              "                                         Title Supplemental Video Type  \\\n",
              "89                                  Mr. Holmes                     NaN   \n",
              "157               Baby: El aprendiz del crimen                     NaN   \n",
              "158               Baby: El aprendiz del crimen                     NaN   \n",
              "294                          El Hombre Araña 2                     NaN   \n",
              "296                            El hombre araña                     NaN   \n",
              "...                                        ...                     ...   \n",
              "12868           Flubber y el profesor chiflado                     NaN   \n",
              "12869        Toy Story: una historia de terror                     NaN   \n",
              "12894                            Pesos pesados                     NaN   \n",
              "12895                            Pesos pesados                     NaN   \n",
              "12896  Mighty Morphin Power Rangers: The Movie                     NaN   \n",
              "\n",
              "                     Device Type  Bookmark  Latest Bookmark         Country  \\\n",
              "89     Apple Apple TV 4 Apple TV  01:39:52         01:39:52  AR (Argentina)   \n",
              "157    Apple Apple TV 4 Apple TV  01:49:05         01:49:05  AR (Argentina)   \n",
              "158    Apple Apple TV 4 Apple TV  01:11:35  Not latest view  AR (Argentina)   \n",
              "294    Apple Apple TV 4 Apple TV  02:02:53         02:02:53  AR (Argentina)   \n",
              "296    Apple Apple TV 4 Apple TV  01:55:55         01:55:55  AR (Argentina)   \n",
              "...                          ...       ...              ...             ...   \n",
              "12868       Apple TV 3 (revised)  01:29:21         01:29:21  AR (Argentina)   \n",
              "12869       Apple TV 3 (revised)  00:21:39         00:21:39  AR (Argentina)   \n",
              "12894       Apple TV 3 (revised)  01:34:01         01:34:01  AR (Argentina)   \n",
              "12895       Apple TV 3 (revised)  00:00:01  Not latest view  AR (Argentina)   \n",
              "12896       Apple TV 3 (revised)  00:00:19         00:00:19  AR (Argentina)   \n",
              "\n",
              "             Day Hour Title Type   Año  \n",
              "89      Saturday   22   Película  2022  \n",
              "157      Tuesday   01   Película  2022  \n",
              "158       Monday   22   Película  2022  \n",
              "294    Wednesday   18   Película  2021  \n",
              "296      Tuesday   03   Película  2021  \n",
              "...          ...  ...        ...   ...  \n",
              "12868    Tuesday   00   Película  2015  \n",
              "12869    Tuesday   00   Película  2015  \n",
              "12894     Friday   00   Película  2015  \n",
              "12895     Friday   00   Película  2015  \n",
              "12896     Friday   00   Película  2015  \n",
              "\n",
              "[309 rows x 15 columns]"
            ],
            "text/html": [
              "\n",
              "  <div id=\"df-86c4b98c-1fa9-4845-a6c7-f44e30a9c69c\">\n",
              "    <div class=\"colab-df-container\">\n",
              "      <div>\n",
              "<style scoped>\n",
              "    .dataframe tbody tr th:only-of-type {\n",
              "        vertical-align: middle;\n",
              "    }\n",
              "\n",
              "    .dataframe tbody tr th {\n",
              "        vertical-align: top;\n",
              "    }\n",
              "\n",
              "    .dataframe thead th {\n",
              "        text-align: right;\n",
              "    }\n",
              "</style>\n",
              "<table border=\"1\" class=\"dataframe\">\n",
              "  <thead>\n",
              "    <tr style=\"text-align: right;\">\n",
              "      <th></th>\n",
              "      <th>Unnamed: 0</th>\n",
              "      <th>Profile Name</th>\n",
              "      <th>Start Time</th>\n",
              "      <th>Duration</th>\n",
              "      <th>Attributes</th>\n",
              "      <th>Title</th>\n",
              "      <th>Supplemental Video Type</th>\n",
              "      <th>Device Type</th>\n",
              "      <th>Bookmark</th>\n",
              "      <th>Latest Bookmark</th>\n",
              "      <th>Country</th>\n",
              "      <th>Day</th>\n",
              "      <th>Hour</th>\n",
              "      <th>Title Type</th>\n",
              "      <th>Año</th>\n",
              "    </tr>\n",
              "  </thead>\n",
              "  <tbody>\n",
              "    <tr>\n",
              "      <th>89</th>\n",
              "      <td>89</td>\n",
              "      <td>Chona</td>\n",
              "      <td>2022-07-16 22:28:48</td>\n",
              "      <td>6003</td>\n",
              "      <td>NaN</td>\n",
              "      <td>Mr. Holmes</td>\n",
              "      <td>NaN</td>\n",
              "      <td>Apple Apple TV 4 Apple TV</td>\n",
              "      <td>01:39:52</td>\n",
              "      <td>01:39:52</td>\n",
              "      <td>AR (Argentina)</td>\n",
              "      <td>Saturday</td>\n",
              "      <td>22</td>\n",
              "      <td>Película</td>\n",
              "      <td>2022</td>\n",
              "    </tr>\n",
              "    <tr>\n",
              "      <th>157</th>\n",
              "      <td>157</td>\n",
              "      <td>Chona</td>\n",
              "      <td>2022-03-29 01:35:31</td>\n",
              "      <td>2331</td>\n",
              "      <td>NaN</td>\n",
              "      <td>Baby: El aprendiz del crimen</td>\n",
              "      <td>NaN</td>\n",
              "      <td>Apple Apple TV 4 Apple TV</td>\n",
              "      <td>01:49:05</td>\n",
              "      <td>01:49:05</td>\n",
              "      <td>AR (Argentina)</td>\n",
              "      <td>Tuesday</td>\n",
              "      <td>01</td>\n",
              "      <td>Película</td>\n",
              "      <td>2022</td>\n",
              "    </tr>\n",
              "    <tr>\n",
              "      <th>158</th>\n",
              "      <td>158</td>\n",
              "      <td>Chona</td>\n",
              "      <td>2022-03-28 22:04:54</td>\n",
              "      <td>4294</td>\n",
              "      <td>NaN</td>\n",
              "      <td>Baby: El aprendiz del crimen</td>\n",
              "      <td>NaN</td>\n",
              "      <td>Apple Apple TV 4 Apple TV</td>\n",
              "      <td>01:11:35</td>\n",
              "      <td>Not latest view</td>\n",
              "      <td>AR (Argentina)</td>\n",
              "      <td>Monday</td>\n",
              "      <td>22</td>\n",
              "      <td>Película</td>\n",
              "      <td>2022</td>\n",
              "    </tr>\n",
              "    <tr>\n",
              "      <th>294</th>\n",
              "      <td>294</td>\n",
              "      <td>Chona</td>\n",
              "      <td>2021-12-29 18:15:16</td>\n",
              "      <td>7372</td>\n",
              "      <td>NaN</td>\n",
              "      <td>El Hombre Araña 2</td>\n",
              "      <td>NaN</td>\n",
              "      <td>Apple Apple TV 4 Apple TV</td>\n",
              "      <td>02:02:53</td>\n",
              "      <td>02:02:53</td>\n",
              "      <td>AR (Argentina)</td>\n",
              "      <td>Wednesday</td>\n",
              "      <td>18</td>\n",
              "      <td>Película</td>\n",
              "      <td>2021</td>\n",
              "    </tr>\n",
              "    <tr>\n",
              "      <th>296</th>\n",
              "      <td>296</td>\n",
              "      <td>Chona</td>\n",
              "      <td>2021-12-28 03:21:55</td>\n",
              "      <td>6975</td>\n",
              "      <td>NaN</td>\n",
              "      <td>El hombre araña</td>\n",
              "      <td>NaN</td>\n",
              "      <td>Apple Apple TV 4 Apple TV</td>\n",
              "      <td>01:55:55</td>\n",
              "      <td>01:55:55</td>\n",
              "      <td>AR (Argentina)</td>\n",
              "      <td>Tuesday</td>\n",
              "      <td>03</td>\n",
              "      <td>Película</td>\n",
              "      <td>2021</td>\n",
              "    </tr>\n",
              "    <tr>\n",
              "      <th>...</th>\n",
              "      <td>...</td>\n",
              "      <td>...</td>\n",
              "      <td>...</td>\n",
              "      <td>...</td>\n",
              "      <td>...</td>\n",
              "      <td>...</td>\n",
              "      <td>...</td>\n",
              "      <td>...</td>\n",
              "      <td>...</td>\n",
              "      <td>...</td>\n",
              "      <td>...</td>\n",
              "      <td>...</td>\n",
              "      <td>...</td>\n",
              "      <td>...</td>\n",
              "      <td>...</td>\n",
              "    </tr>\n",
              "    <tr>\n",
              "      <th>12868</th>\n",
              "      <td>12868</td>\n",
              "      <td>Chona</td>\n",
              "      <td>2015-01-20 00:49:39</td>\n",
              "      <td>5361</td>\n",
              "      <td>NaN</td>\n",
              "      <td>Flubber y el profesor chiflado</td>\n",
              "      <td>NaN</td>\n",
              "      <td>Apple TV 3 (revised)</td>\n",
              "      <td>01:29:21</td>\n",
              "      <td>01:29:21</td>\n",
              "      <td>AR (Argentina)</td>\n",
              "      <td>Tuesday</td>\n",
              "      <td>00</td>\n",
              "      <td>Película</td>\n",
              "      <td>2015</td>\n",
              "    </tr>\n",
              "    <tr>\n",
              "      <th>12869</th>\n",
              "      <td>12869</td>\n",
              "      <td>Chona</td>\n",
              "      <td>2015-01-20 00:20:46</td>\n",
              "      <td>32</td>\n",
              "      <td>NaN</td>\n",
              "      <td>Toy Story: una historia de terror</td>\n",
              "      <td>NaN</td>\n",
              "      <td>Apple TV 3 (revised)</td>\n",
              "      <td>00:21:39</td>\n",
              "      <td>00:21:39</td>\n",
              "      <td>AR (Argentina)</td>\n",
              "      <td>Tuesday</td>\n",
              "      <td>00</td>\n",
              "      <td>Película</td>\n",
              "      <td>2015</td>\n",
              "    </tr>\n",
              "    <tr>\n",
              "      <th>12894</th>\n",
              "      <td>12894</td>\n",
              "      <td>Chona</td>\n",
              "      <td>2015-01-16 00:48:04</td>\n",
              "      <td>5642</td>\n",
              "      <td>NaN</td>\n",
              "      <td>Pesos pesados</td>\n",
              "      <td>NaN</td>\n",
              "      <td>Apple TV 3 (revised)</td>\n",
              "      <td>01:34:01</td>\n",
              "      <td>01:34:01</td>\n",
              "      <td>AR (Argentina)</td>\n",
              "      <td>Friday</td>\n",
              "      <td>00</td>\n",
              "      <td>Película</td>\n",
              "      <td>2015</td>\n",
              "    </tr>\n",
              "    <tr>\n",
              "      <th>12895</th>\n",
              "      <td>12895</td>\n",
              "      <td>Chona</td>\n",
              "      <td>2015-01-16 00:30:53</td>\n",
              "      <td>1</td>\n",
              "      <td>NaN</td>\n",
              "      <td>Pesos pesados</td>\n",
              "      <td>NaN</td>\n",
              "      <td>Apple TV 3 (revised)</td>\n",
              "      <td>00:00:01</td>\n",
              "      <td>Not latest view</td>\n",
              "      <td>AR (Argentina)</td>\n",
              "      <td>Friday</td>\n",
              "      <td>00</td>\n",
              "      <td>Película</td>\n",
              "      <td>2015</td>\n",
              "    </tr>\n",
              "    <tr>\n",
              "      <th>12896</th>\n",
              "      <td>12896</td>\n",
              "      <td>Chona</td>\n",
              "      <td>2015-01-16 00:19:51</td>\n",
              "      <td>19</td>\n",
              "      <td>NaN</td>\n",
              "      <td>Mighty Morphin Power Rangers: The Movie</td>\n",
              "      <td>NaN</td>\n",
              "      <td>Apple TV 3 (revised)</td>\n",
              "      <td>00:00:19</td>\n",
              "      <td>00:00:19</td>\n",
              "      <td>AR (Argentina)</td>\n",
              "      <td>Friday</td>\n",
              "      <td>00</td>\n",
              "      <td>Película</td>\n",
              "      <td>2015</td>\n",
              "    </tr>\n",
              "  </tbody>\n",
              "</table>\n",
              "<p>309 rows × 15 columns</p>\n",
              "</div>\n",
              "      <button class=\"colab-df-convert\" onclick=\"convertToInteractive('df-86c4b98c-1fa9-4845-a6c7-f44e30a9c69c')\"\n",
              "              title=\"Convert this dataframe to an interactive table.\"\n",
              "              style=\"display:none;\">\n",
              "        \n",
              "  <svg xmlns=\"http://www.w3.org/2000/svg\" height=\"24px\"viewBox=\"0 0 24 24\"\n",
              "       width=\"24px\">\n",
              "    <path d=\"M0 0h24v24H0V0z\" fill=\"none\"/>\n",
              "    <path d=\"M18.56 5.44l.94 2.06.94-2.06 2.06-.94-2.06-.94-.94-2.06-.94 2.06-2.06.94zm-11 1L8.5 8.5l.94-2.06 2.06-.94-2.06-.94L8.5 2.5l-.94 2.06-2.06.94zm10 10l.94 2.06.94-2.06 2.06-.94-2.06-.94-.94-2.06-.94 2.06-2.06.94z\"/><path d=\"M17.41 7.96l-1.37-1.37c-.4-.4-.92-.59-1.43-.59-.52 0-1.04.2-1.43.59L10.3 9.45l-7.72 7.72c-.78.78-.78 2.05 0 2.83L4 21.41c.39.39.9.59 1.41.59.51 0 1.02-.2 1.41-.59l7.78-7.78 2.81-2.81c.8-.78.8-2.07 0-2.86zM5.41 20L4 18.59l7.72-7.72 1.47 1.35L5.41 20z\"/>\n",
              "  </svg>\n",
              "      </button>\n",
              "      \n",
              "  <style>\n",
              "    .colab-df-container {\n",
              "      display:flex;\n",
              "      flex-wrap:wrap;\n",
              "      gap: 12px;\n",
              "    }\n",
              "\n",
              "    .colab-df-convert {\n",
              "      background-color: #E8F0FE;\n",
              "      border: none;\n",
              "      border-radius: 50%;\n",
              "      cursor: pointer;\n",
              "      display: none;\n",
              "      fill: #1967D2;\n",
              "      height: 32px;\n",
              "      padding: 0 0 0 0;\n",
              "      width: 32px;\n",
              "    }\n",
              "\n",
              "    .colab-df-convert:hover {\n",
              "      background-color: #E2EBFA;\n",
              "      box-shadow: 0px 1px 2px rgba(60, 64, 67, 0.3), 0px 1px 3px 1px rgba(60, 64, 67, 0.15);\n",
              "      fill: #174EA6;\n",
              "    }\n",
              "\n",
              "    [theme=dark] .colab-df-convert {\n",
              "      background-color: #3B4455;\n",
              "      fill: #D2E3FC;\n",
              "    }\n",
              "\n",
              "    [theme=dark] .colab-df-convert:hover {\n",
              "      background-color: #434B5C;\n",
              "      box-shadow: 0px 1px 3px 1px rgba(0, 0, 0, 0.15);\n",
              "      filter: drop-shadow(0px 1px 2px rgba(0, 0, 0, 0.3));\n",
              "      fill: #FFFFFF;\n",
              "    }\n",
              "  </style>\n",
              "\n",
              "      <script>\n",
              "        const buttonEl =\n",
              "          document.querySelector('#df-86c4b98c-1fa9-4845-a6c7-f44e30a9c69c button.colab-df-convert');\n",
              "        buttonEl.style.display =\n",
              "          google.colab.kernel.accessAllowed ? 'block' : 'none';\n",
              "\n",
              "        async function convertToInteractive(key) {\n",
              "          const element = document.querySelector('#df-86c4b98c-1fa9-4845-a6c7-f44e30a9c69c');\n",
              "          const dataTable =\n",
              "            await google.colab.kernel.invokeFunction('convertToInteractive',\n",
              "                                                     [key], {});\n",
              "          if (!dataTable) return;\n",
              "\n",
              "          const docLinkHtml = 'Like what you see? Visit the ' +\n",
              "            '<a target=\"_blank\" href=https://colab.research.google.com/notebooks/data_table.ipynb>data table notebook</a>'\n",
              "            + ' to learn more about interactive tables.';\n",
              "          element.innerHTML = '';\n",
              "          dataTable['output_type'] = 'display_data';\n",
              "          await google.colab.output.renderOutput(dataTable, element);\n",
              "          const docLink = document.createElement('div');\n",
              "          docLink.innerHTML = docLinkHtml;\n",
              "          element.appendChild(docLink);\n",
              "        }\n",
              "      </script>\n",
              "    </div>\n",
              "  </div>\n",
              "  "
            ]
          },
          "metadata": {},
          "execution_count": 26
        }
      ]
    },
    {
      "cell_type": "markdown",
      "source": [
        "### Ahora sí, solo con las películas creamos un diccionario que almacene las veces que fue vista cada película"
      ],
      "metadata": {
        "id": "PA6mYm_g3utr"
      }
    },
    {
      "cell_type": "code",
      "source": [
        "list_titles = list(df_pelis[\"Title\"])\n",
        "dict_ocurrencias = dict(Counter(list_titles))"
      ],
      "metadata": {
        "id": "o6Ik3fyM4IS7"
      },
      "execution_count": 27,
      "outputs": []
    },
    {
      "cell_type": "code",
      "execution_count": 28,
      "metadata": {
        "id": "wCiOIWiUlFkO",
        "colab": {
          "base_uri": "https://localhost:8080/"
        },
        "outputId": "043dcd4d-c26f-4ea9-8192-02acf155aa67"
      },
      "outputs": [
        {
          "output_type": "stream",
          "name": "stdout",
          "text": [
            "La película más vista fue Star Wars: El Imperio contraataca y fue vista 7 veces\n"
          ]
        }
      ],
      "source": [
        "max_peli = 0\n",
        "nom_maxpeli = None\n",
        "\n",
        "for key, value in dict_ocurrencias.items():\n",
        "  if value > max_peli:\n",
        "   max_peli = value\n",
        "   nombrePeli = key\n",
        "\n",
        "print(\"La película más vista fue\", nombrePeli, \"y fue vista\", max_peli, \"veces\")"
      ]
    },
    {
      "cell_type": "markdown",
      "source": [
        "### En cuanto a la película más larga, creamos otro diccionario pero que almacena las duraciones de cada"
      ],
      "metadata": {
        "id": "AGx0xg634Lsi"
      }
    },
    {
      "cell_type": "code",
      "source": [
        "dict_pelis = df_pelis.set_index('Duration').to_dict()['Title']"
      ],
      "metadata": {
        "id": "if18opB9DsYp"
      },
      "execution_count": 12,
      "outputs": []
    },
    {
      "cell_type": "code",
      "source": [
        "max = 0\n",
        "nom_pelimax = None\n",
        "\n",
        "for time2, nom2 in dict_pelis.items():\n",
        "  if time2 > max:\n",
        "    max = time2\n",
        "    nom_pelimax = nom2\n",
        "\n",
        "print(\"La película más larga es\",nom_pelimax,\"y dura\",max,\"segundos\")"
      ],
      "metadata": {
        "colab": {
          "base_uri": "https://localhost:8080/"
        },
        "id": "FlbDlFM2f4b0",
        "outputId": "f5b8558a-2d9b-49ed-f10f-a946d82aeea2"
      },
      "execution_count": 13,
      "outputs": [
        {
          "output_type": "stream",
          "name": "stdout",
          "text": [
            "La película más larga es El club de la pelea y dura 8411 segundos\n"
          ]
        }
      ]
    },
    {
      "cell_type": "markdown",
      "metadata": {
        "id": "-LRocwP_yWDH"
      },
      "source": [
        "## Ejercicio C"
      ]
    },
    {
      "cell_type": "markdown",
      "source": [
        "### Lo primero que hicimos fue filtrar las películas y otros, para que solo trabajemos con series"
      ],
      "metadata": {
        "id": "WNVnOI-s4_F6"
      }
    },
    {
      "cell_type": "code",
      "execution_count": 14,
      "metadata": {
        "id": "mYoGZLRXyZHS"
      },
      "outputs": [],
      "source": [
        "df_series = df.drop(df[(df['Title Type'] == \"Otros\") | (df['Title Type'] == \"Película\")].index)\n",
        "\n",
        "def nom_serie(input):\n",
        "  nom = input.split(\":\")\n",
        "  return nom[0]\n",
        "  \n",
        "df_series[\"Serie Name\"] = df_series[\"Title\"].apply(nom_serie)"
      ]
    },
    {
      "cell_type": "markdown",
      "source": [
        "### Punto 1:\n"
      ],
      "metadata": {
        "id": "daZDyhHft0L1"
      }
    },
    {
      "cell_type": "markdown",
      "source": [
        "#### aquí codeamos un diccionario para almecenar el título de la serie como `key`, y los segundos totales de la suma de sus capítulos vistos como `value`"
      ],
      "metadata": {
        "id": "xehVKOcb70VM"
      }
    },
    {
      "cell_type": "code",
      "source": [
        "dict_series_dur = {}\n",
        "\n",
        "for i in df_series[\"Serie Name\"]:\n",
        "  sum_dur = df_series.loc[df_series['Serie Name'] == i, 'Duration'].sum()\n",
        "  dict_series_dur[i] = sum_dur\n",
        "\n",
        "dict_series_dur"
      ],
      "metadata": {
        "colab": {
          "base_uri": "https://localhost:8080/"
        },
        "id": "Wo9dWuHj4h3d",
        "outputId": "7859c420-f529-4cfb-8063-876d67a16e73"
      },
      "execution_count": 35,
      "outputs": [
        {
          "output_type": "execute_result",
          "data": {
            "text/plain": [
              "{'Community': 807438,\n",
              " 'The Good Place': 77795,\n",
              " 'Better Call Saul': 85325,\n",
              " 'Stranger Things': 117240,\n",
              " 'Brooklyn Nine-Nine': 306755,\n",
              " 'Designated Survivor': 197134,\n",
              " 'Casi feliz': 2684,\n",
              " 'La ley de los audaces': 637377,\n",
              " 'Marvel - Daredevil': 119497,\n",
              " 'Atlanta': 62509,\n",
              " 'El código de la discordia': 14881,\n",
              " 'Archer': 93777,\n",
              " 'Punto de inflexión': 18305,\n",
              " 'El juego del calamar': 25729,\n",
              " 'Los Simuladores': 6470,\n",
              " 'Close Enough': 6,\n",
              " 'Rick y Morty': 112810,\n",
              " 'How to Sell Drugs Online (Fast)': 17524,\n",
              " 'Legion': 3292,\n",
              " 'Historia': 55,\n",
              " 'El arte del espionaje': 4,\n",
              " 'Cobra Kai': 19033,\n",
              " 'Big Mouth': 62309,\n",
              " 'Narcos': 91740,\n",
              " 'BoJack Horseman': 115400,\n",
              " 'Friends': 690936,\n",
              " 'The Promised Neverland': 14873,\n",
              " 'Juegos locales': 33,\n",
              " 'Avatar': 80413,\n",
              " 'Bill Gates bajo la lupa': 8366,\n",
              " 'Especial 20 años Fútbol de Primera': 2,\n",
              " 'Middleditch & Schwartz': 924,\n",
              " 'Madam C. J. Walker': 10281,\n",
              " 'Élite': 69969,\n",
              " 'Power Rangers Dino Thunder': 5772,\n",
              " 'The Inbetweeners': 37155,\n",
              " 'Nisman': 3216,\n",
              " 'Star Wars Rebels': 101226,\n",
              " 'Easy': 112,\n",
              " 'Peaky Blinders': 41498,\n",
              " 'Billions': 7018,\n",
              " 'Master of None': 3748,\n",
              " 'Californication': 5969,\n",
              " 'Glee': 118221,\n",
              " '(Des)encanto': 2457,\n",
              " 'El método Kominsky': 138,\n",
              " 'The Umbrella Academy': 61,\n",
              " 'Lucifer': 411,\n",
              " 'Dark': 258,\n",
              " \"That '70s Show\": 172715,\n",
              " 'The Standups': 349,\n",
              " 'One Strange Rock': 242,\n",
              " 'Sherlock': 62363,\n",
              " 'Millennials': 14875,\n",
              " 'Love, Death & Robots': 854,\n",
              " 'The Ranch': 92,\n",
              " 'Buenas noticias': 3933,\n",
              " 'The Good Cop': 740,\n",
              " 'Final Space': 7125,\n",
              " 'Unbreakable Kimmy Schmidt': 1371,\n",
              " \"Marvel's Agent Carter\": 9947,\n",
              " 'Black Mirror': 9407,\n",
              " 'Arrested Development': 217,\n",
              " 'The Get Down': 12220,\n",
              " 'Un jefe en pañales': 1364,\n",
              " 'Luis Miguel - La serie': 3008,\n",
              " 'Los 100': 39780,\n",
              " 'Una serie de eventos desafortunados': 18817,\n",
              " 'Dr. House': 485376,\n",
              " 'La casa de papel': 8292,\n",
              " 'HIDDEN TITLE': 1313,\n",
              " 'Fuller House': 9758,\n",
              " 'Bernard': 724,\n",
              " 'Cosmos': 21017,\n",
              " 'Marvel - Jessica Jones': 9048,\n",
              " 'Manhunt': 5288,\n",
              " 'Criminal Minds': 2614,\n",
              " 'Quantico': 94330,\n",
              " 'The Toys That Made Us': 99,\n",
              " 'Blue Mountain State': 54814,\n",
              " 'Star Wars': 7143,\n",
              " 'El universo de Stranger Things': 941,\n",
              " 'Torchwood': 739,\n",
              " 'Sin límites': 58145,\n",
              " 'Robin Hood': 6136,\n",
              " 'Cómo conocí a tu madre': 816931,\n",
              " 'Lost': 262502,\n",
              " 'MERLÍN': 186678,\n",
              " 'Penn & Teller': 172,\n",
              " 'Abstract': 3767,\n",
              " 'Two and a Half Men': 235533,\n",
              " 'Video Game High School': 174,\n",
              " 'Merlí': 87,\n",
              " 'Duels': 3128,\n",
              " 'Breaking Bad': 202188,\n",
              " \"Breaking the Magician's Code\": 10274,\n",
              " 'LEGO Star Wars': 3214,\n",
              " 'Tres por tres': 37382,\n",
              " 'Doctor Who': 530325,\n",
              " 'Modern Family': 1260,\n",
              " 'Pablo Escobar, el patrón del mal': 24411,\n",
              " 'Graduados': 20,\n",
              " 'Padre de familia': 6,\n",
              " 'El príncipe del rap': 4393,\n",
              " 'The Walking Dead': 4003,\n",
              " 'TED Talks': 279,\n",
              " 'iCarly': 4267,\n",
              " 'Being Human (U.K.)': 148,\n",
              " 'Yu-Gi-Oh!': 1264,\n",
              " 'Supernatural': 15114,\n",
              " 'Juegos mentales': 3197,\n",
              " 'Dilbert': 2701,\n",
              " 'Prison Break': 2582,\n",
              " 'El show de la pantera rosa': 3442}"
            ]
          },
          "metadata": {},
          "execution_count": 35
        }
      ]
    },
    {
      "cell_type": "markdown",
      "source": [
        "#### luego los ordenamos con el método `sorted` y borramos todos los items del décimo puesto para abajo"
      ],
      "metadata": {
        "id": "M9pNnkVA6vaG"
      }
    },
    {
      "cell_type": "code",
      "source": [
        "top10series_dur = dict(sorted(dict_series_dur.items(), key=operator.itemgetter(1),reverse=True))\n",
        "for_top10 = list(top10series_dur)\n",
        "\n",
        "for x in for_top10:\n",
        " if for_top10.index(x) > 9:\n",
        "  del top10series_dur[x]"
      ],
      "metadata": {
        "id": "sklj23DWwoYF"
      },
      "execution_count": 30,
      "outputs": []
    },
    {
      "cell_type": "markdown",
      "source": [
        "#### Por último, ploteamos el top 10 con barras indicando cuantos segundos totales se vieron por cada serie"
      ],
      "metadata": {
        "id": "Mq1IFx__7G3r"
      }
    },
    {
      "cell_type": "code",
      "source": [
        "keys = top10series_dur.keys()\n",
        "values = top10series_dur.values()\n",
        "\n",
        "plt.bar(keys, values)\n",
        "plt.xticks(rotation=90)"
      ],
      "metadata": {
        "colab": {
          "base_uri": "https://localhost:8080/",
          "height": 394
        },
        "id": "zdKbseSq4nM4",
        "outputId": "d17d46ca-b1b8-43df-8e5e-7b9c6912fac3"
      },
      "execution_count": 31,
      "outputs": [
        {
          "output_type": "execute_result",
          "data": {
            "text/plain": [
              "([0, 1, 2, 3, 4, 5, 6, 7, 8, 9], <a list of 10 Text major ticklabel objects>)"
            ]
          },
          "metadata": {},
          "execution_count": 31
        },
        {
          "output_type": "display_data",
          "data": {
            "text/plain": [
              "<Figure size 432x288 with 1 Axes>"
            ],
            "image/png": "[encoded data removed]"
          },
          "metadata": {
            "needs_background": "light"
          }
        }
      ]
    },
    {
      "cell_type": "markdown",
      "source": [
        "### Punto 2"
      ],
      "metadata": {
        "id": "LD0omZuQtpv1"
      }
    },
    {
      "cell_type": "markdown",
      "source": [
        "#### Realizamos otro dictionario pero esta vez con las veces que aparece el nombre de la serie en la columna `\"Serie Name\"`"
      ],
      "metadata": {
        "id": "bYZcs7gY7_o7"
      }
    },
    {
      "cell_type": "code",
      "source": [
        "dict_series_oc = dict(Counter(df_series[\"Serie Name\"]))\n",
        "\n",
        "top10series_oc = dict(sorted(dict_series_oc.items(), key=operator.itemgetter(1),reverse=True))\n",
        "for_top10 = list(top10series_oc)\n",
        "\n",
        "for x in for_top10:\n",
        " if for_top10.index(x) > 9:\n",
        "  del top10series_oc[x]"
      ],
      "metadata": {
        "id": "DItx7gU3h5Es"
      },
      "execution_count": 37,
      "outputs": []
    },
    {
      "cell_type": "markdown",
      "source": [
        "#### y ploteamos un top 10 de las series por cantidad de veces más vistas"
      ],
      "metadata": {
        "id": "aUbPTreZ8aYY"
      }
    },
    {
      "cell_type": "code",
      "source": [
        "keys = top10series_oc.keys()\n",
        "values = top10series_oc.values()\n",
        "\n",
        "plt.bar(keys, values)\n",
        "plt.xticks(rotation=90)"
      ],
      "metadata": {
        "colab": {
          "base_uri": "https://localhost:8080/",
          "height": 394
        },
        "id": "SlBaYqTR4zpy",
        "outputId": "8620493a-f522-4aa4-e368-30c708ba6471"
      },
      "execution_count": 33,
      "outputs": [
        {
          "output_type": "execute_result",
          "data": {
            "text/plain": [
              "([0, 1, 2, 3, 4, 5, 6, 7, 8, 9], <a list of 10 Text major ticklabel objects>)"
            ]
          },
          "metadata": {},
          "execution_count": 33
        },
        {
          "output_type": "display_data",
          "data": {
            "text/plain": [
              "<Figure size 432x288 with 1 Axes>"
            ],
            "image/png": "[encoded data removed]"
          },
          "metadata": {
            "needs_background": "light"
          }
        }
      ]
    },
    {
      "cell_type": "markdown",
      "source": [
        "## Ejercicio D"
      ],
      "metadata": {
        "id": "ZPaAjJL_8SHw"
      }
    },
    {
      "cell_type": "code",
      "source": [
        "df_semana = pd.DataFrame()"
      ],
      "metadata": {
        "id": "MgG00pkn8cVD"
      },
      "execution_count": 17,
      "outputs": []
    },
    {
      "cell_type": "code",
      "source": [
        "lista_dias = [\"Monday\",\"Tuesday\",\"Wednesday\",\"Thursday\",\"Friday\",\"Saturday\",\"Sunday\"]\n",
        "df_semana[\"Day\"] = lista_dias\n",
        "\n",
        "lista_horas = [\"00\", \"02\", \"04\", \"06\", \"08\", \"10\", \"12\", \"14\", \"16\", \"18\", \"20\", \"22\"]\n",
        "for hora in lista_horas:\n",
        "  df_semana[hora] = 0\n",
        "\n",
        "dict_DyH = { \"Monday\":0,\"Tuesday\":1,\"Wednesday\":2,\"Thursday\":3,\"Friday\":4,\"Saturday\":5,\"Sunday\":6}"
      ],
      "metadata": {
        "id": "UYFnmU6oJqlo"
      },
      "execution_count": 18,
      "outputs": []
    },
    {
      "cell_type": "code",
      "source": [
        "for hora in lista_horas:\n",
        "  for dia in df_semana[df_semana[\"Day\"] != None][\"Day\"]:\n",
        "    df_semana.at[dict_DyH[dia], hora] = df.loc[(df['Day'] == dia) & (df[\"Hour\"] == hora)].count()[0]"
      ],
      "metadata": {
        "id": "itfNq_L-JtFA"
      },
      "execution_count": 19,
      "outputs": []
    },
    {
      "cell_type": "code",
      "source": [
        "df_semana = df_semana.drop('Day', axis=1)\n",
        "\n",
        "plt.figure(figsize = (20,10))\n",
        "sns.heatmap(df_semana, yticklabels = lista_dias)"
      ],
      "metadata": {
        "colab": {
          "base_uri": "https://localhost:8080/",
          "height": 609
        },
        "id": "Yb81rQ-uKPIC",
        "outputId": "c07b99d9-5397-4384-aea8-87a2fb5e1d16"
      },
      "execution_count": 20,
      "outputs": [
        {
          "output_type": "execute_result",
          "data": {
            "text/plain": [
              "<matplotlib.axes._subplots.AxesSubplot at 0x7faf624e1bd0>"
            ]
          },
          "metadata": {},
          "execution_count": 20
        },
        {
          "output_type": "display_data",
          "data": {
            "text/plain": [
              "<Figure size 1440x720 with 2 Axes>"
            ],
            "image/png": "[encoded data removed]"
          },
          "metadata": {
            "needs_background": "light"
          }
        }
      ]
    },
    {
      "cell_type": "markdown",
      "source": [
        "## Ejercicio E"
      ],
      "metadata": {
        "id": "TZwZSIsC8Va4"
      }
    },
    {
      "cell_type": "code",
      "source": [
        "def año(input):\n",
        "  return input[0:4]\n",
        "\n",
        "df[\"Año\"] = df[\"Start Time\"].apply(año)"
      ],
      "metadata": {
        "id": "mvLE65FKmbb3"
      },
      "execution_count": 21,
      "outputs": []
    },
    {
      "cell_type": "code",
      "source": [
        "titulos_total = df.groupby([\"Title\", \"Año\"]).size().reset_index()\n",
        "\n",
        "años_vistos = [\"2015\", \"2016\", \"2017\", \"2018\", \"2019\", \"2020\", \"2021\", \"2022\"]\n",
        "\n",
        "años_titulos = {}\n",
        "\n",
        "for i in años_vistos:\n",
        "  años_titulos[i] = titulos_total[titulos_total[\"Año\"] == i][0].count()"
      ],
      "metadata": {
        "id": "oeVl6sHp8crb"
      },
      "execution_count": 22,
      "outputs": []
    },
    {
      "cell_type": "code",
      "source": [
        "plt.bar(años_titulos.keys(), años_titulos.values())\n",
        "plt.show()\n",
        "#El gráfico muestra la visualización total de cada año por todos los programas del historial"
      ],
      "metadata": {
        "colab": {
          "base_uri": "https://localhost:8080/",
          "height": 265
        },
        "id": "eDVSB9bxlycq",
        "outputId": "8d80bc29-7206-4f01-a9bf-5b31771949c3"
      },
      "execution_count": 23,
      "outputs": [
        {
          "output_type": "display_data",
          "data": {
            "text/plain": [
              "<Figure size 432x288 with 1 Axes>"
            ],
            "image/png": "[encoded data removed]"
          },
          "metadata": {
            "needs_background": "light"
          }
        }
      ]
    },
    {
      "cell_type": "markdown",
      "source": [
        "## Ejercicio F"
      ],
      "metadata": {
        "id": "8hvq3aF08X0y"
      }
    },
    {
      "cell_type": "code",
      "source": [
        "total_dias = int(df[\"Duration\"].sum() / 60 / 60 / 24)\n",
        "print(\"Todos los programas suman un total de\", str(total_dias), \"días reproducidos\")"
      ],
      "metadata": {
        "id": "Wg_4U8qP8dDz",
        "colab": {
          "base_uri": "https://localhost:8080/"
        },
        "outputId": "28c031a6-1813-4f23-91ec-e8ac26f64ac2"
      },
      "execution_count": 24,
      "outputs": [
        {
          "output_type": "stream",
          "name": "stdout",
          "text": [
            "Todos los programas suman un total de 99 días reproducidos\n"
          ]
        }
      ]
    }
  ],
  "metadata": {
    "colab": {
      "collapsed_sections": [
        "EdGdz4kMp0Wr",
        "Qnpks7dlEtET",
        "l2u1XpT_ogWA",
        "YenRsspvqkj7",
        "AGx0xg634Lsi",
        "WNVnOI-s4_F6",
        "daZDyhHft0L1",
        "LD0omZuQtpv1",
        "bYZcs7gY7_o7",
        "aUbPTreZ8aYY"
      ],
      "provenance": [],
      "include_colab_link": true
    },
    "kernelspec": {
      "display_name": "Python 3",
      "name": "python3"
    },
    "language_info": {
      "name": "python"
    }
  },
  "nbformat": 4,
  "nbformat_minor": 0
}
